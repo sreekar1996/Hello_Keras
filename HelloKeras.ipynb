{
 "cells": [
  {
   "cell_type": "code",
   "execution_count": 1,
   "metadata": {},
   "outputs": [
    {
     "name": "stderr",
     "output_type": "stream",
     "text": [
      "C:\\Users\\sreekar chidurala\\Anaconda3\\lib\\site-packages\\ipykernel\\parentpoller.py:116: UserWarning: Parent poll failed.  If the frontend dies,\n",
      "                the kernel may be left running.  Please let us know\n",
      "                about your system (bitness, Python, etc.) at\n",
      "                ipython-dev@scipy.org\n",
      "  ipython-dev@scipy.org\"\"\")\n",
      "Using TensorFlow backend.\n"
     ]
    },
    {
     "name": "stdout",
     "output_type": "stream",
     "text": [
      "{'loss': [0.9556379914283752, 0.953743577003479, 0.9518564939498901, 0.9501464366912842, 0.948273777961731, 0.9464090466499329, 0.9446077942848206, 0.9427585601806641, 0.940917432308197, 0.939084529876709, 0.9372599124908447, 0.9354438185691833, 0.9336362481117249, 0.9318372011184692, 0.9300469160079956, 0.9282655715942383, 0.9264931082725525, 0.9247294664382935, 0.9229749441146851, 0.9212296605110168, 0.919493556022644, 0.9177665710449219, 0.9160490036010742, 0.9143407344818115, 0.9126419425010681, 0.910952627658844, 0.9092528820037842, 0.9075826406478882, 0.905921995639801, 0.9042707681655884, 0.9026291966438293, 0.9009973406791687, 0.8993750810623169, 0.8977624773979187, 0.8961594104766846, 0.8945661783218384, 0.8929823637008667, 0.8913909792900085, 0.8898266553878784, 0.8882720470428467, 0.886710524559021, 0.8851591348648071, 0.8836334943771362, 0.8821173310279846, 0.8806108236312866, 0.8791139125823975, 0.8776264190673828, 0.876148521900177, 0.8746800422668457, 0.8732209801673889, 0.8717581629753113, 0.8703050017356873, 0.8688742518424988, 0.8674527406692505, 0.8660407066345215, 0.8646377921104431, 0.8632440567016602, 0.8618595600128174, 0.86048424243927, 0.859117865562439, 0.8577606081962585, 0.8564124703407288, 0.8550629615783691, 0.853732705116272, 0.8524113893508911, 0.8510987758636475, 0.8497951030731201, 0.84850013256073, 0.8472049832344055, 0.845927357673645, 0.8446585536003113, 0.8433982133865356, 0.8421381711959839, 0.8408949971199036, 0.8396602272987366, 0.8384338021278381, 0.8372159004211426, 0.8360061049461365, 0.8348047137260437, 0.8336114883422852, 0.8324264883995056, 0.8312495350837708, 0.8300808072090149, 0.8289200663566589, 0.8277672529220581, 0.826622486114502, 0.8254854679107666, 0.8243564367294312, 0.8232351541519165, 0.8221217393875122, 0.8210158944129944, 0.8199177980422974, 0.8188216686248779, 0.8177388310432434, 0.8166635036468506, 0.8155955672264099, 0.8145352602005005, 0.8134822249412537, 0.8124366998672485, 0.8113983869552612]}\n"
     ]
    }
   ],
   "source": [
    "import numpy as np\n",
    "\n",
    "from keras.models import Sequential\n",
    "from keras.layers.core import Dense, Activation\n",
    "from keras.utils import np_utils\n",
    "\n",
    "#----------------------------\n",
    "#preparing data for Exclusive OR (XOR)\n",
    "\n",
    "attributes = [\n",
    "\t#x1, x2\n",
    "\t[0 ,0]\n",
    "\t, [0, 1]\n",
    "\t, [1, 0]\n",
    "\t, [1, 1]\n",
    "]\n",
    "\n",
    "labels = [\n",
    "\t#is_0, is_1 -> only a column can be 1 in labels variable\n",
    "\t[1, 0] \n",
    "\t, [0, 1]\n",
    "\t, [0, 1]\n",
    "\t, [1, 0]\n",
    "]\n",
    "\n",
    "#transforming attributes and labels matrixes to numpy\n",
    "data = np.array(attributes, 'int64')\n",
    "target = np.array(labels, 'int64')\n",
    "\n",
    "#----------------------------\n",
    "#creating model\n",
    "\n",
    "model = Sequential()\n",
    "model.add(Dense(3 #num of hidden units\n",
    "\t, input_shape=(len(attributes[0]),))) #num of features in input layer\n",
    "model.add(Activation('sigmoid')) #activation function from input layer to 1st hidden layer\n",
    "model.add(Dense(len(labels[0]))) #num of classes in output layer\n",
    "model.add(Activation('softmax')) #activation function from 1st hidden layer to output layer\n",
    "\n",
    "#compile\n",
    "model.compile(loss='categorical_crossentropy', optimizer='adam')\n",
    "\n",
    "#training\n",
    "score = model.fit(data, target, epochs=100, verbose=0)\n",
    "\n",
    "print(score.history)"
   ]
  },
  {
   "cell_type": "code",
   "execution_count": null,
   "metadata": {},
   "outputs": [],
   "source": []
  }
 ],
 "metadata": {
  "kernelspec": {
   "display_name": "Python 3",
   "language": "python",
   "name": "python3"
  },
  "language_info": {
   "codemirror_mode": {
    "name": "ipython",
    "version": 3
   },
   "file_extension": ".py",
   "mimetype": "text/x-python",
   "name": "python",
   "nbconvert_exporter": "python",
   "pygments_lexer": "ipython3",
   "version": "3.7.0"
  }
 },
 "nbformat": 4,
 "nbformat_minor": 2
}
